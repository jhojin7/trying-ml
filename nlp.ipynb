{
 "cells": [
  {
   "cell_type": "markdown",
   "metadata": {},
   "source": [
    "# Sentiment Analysis with IMDB dataset\n",
    "## Resources\n",
    "- ...\n",
    "- https://www.tensorflow.org/tutorials/keras/text_classification_with_hub \n",
    "- 핸즈온머신러닝2 16.2~ https://github.com/ageron/handson-ml2/blob/master/16_nlp_with_rnns_and_attention.ipynb"
   ]
  },
  {
   "cell_type": "code",
   "execution_count": 1,
   "metadata": {},
   "outputs": [
    {
     "name": "stderr",
     "output_type": "stream",
     "text": [
      "2022-09-15 01:33:05.970815: W tensorflow/stream_executor/platform/default/dso_loader.cc:64] Could not load dynamic library 'libcudart.so.11.0'; dlerror: libcudart.so.11.0: cannot open shared object file: No such file or directory\n",
      "2022-09-15 01:33:05.970890: I tensorflow/stream_executor/cuda/cudart_stub.cc:29] Ignore above cudart dlerror if you do not have a GPU set up on your machine.\n"
     ]
    }
   ],
   "source": [
    "# movie review text classification\n",
    "import numpy as np\n",
    "import tensorflow as tf\n",
    "import tensorflow_hub as hub\n",
    "import tensorflow_datasets as tfds\n",
    "import matplotlib.pyplot as plt\n",
    "\n",
    "# # !pip3 install tensorflow_hub tensorflow_datasets matplotlib\n",
    "# # ! clear\n",
    "# print(\"Version: \", tf.__version__)\n",
    "# print(\"Eager mode: \", tf.executing_eagerly())\n",
    "# print(\"Hub version: \", hub.__version__)\n",
    "# print(\"GPU is\", \"available\" if tf.config.list_physical_devices('GPU') else \"NOT AVAILABLE\")"
   ]
  },
  {
   "cell_type": "code",
   "execution_count": 2,
   "metadata": {},
   "outputs": [
    {
     "name": "stderr",
     "output_type": "stream",
     "text": [
      "2022-09-15 01:33:10.311446: W tensorflow/stream_executor/platform/default/dso_loader.cc:64] Could not load dynamic library 'libcuda.so.1'; dlerror: libcuda.so.1: cannot open shared object file: No such file or directory\n",
      "2022-09-15 01:33:10.311568: W tensorflow/stream_executor/cuda/cuda_driver.cc:269] failed call to cuInit: UNKNOWN ERROR (303)\n",
      "2022-09-15 01:33:10.311601: I tensorflow/stream_executor/cuda/cuda_diagnostics.cc:156] kernel driver does not appear to be running on this host (HJ-ThinkPadX1C8): /proc/driver/nvidia/version does not exist\n",
      "2022-09-15 01:33:10.312206: I tensorflow/core/platform/cpu_feature_guard.cc:193] This TensorFlow binary is optimized with oneAPI Deep Neural Network Library (oneDNN) to use the following CPU instructions in performance-critical operations:  AVX2 FMA\n",
      "To enable them in other operations, rebuild TensorFlow with the appropriate compiler flags.\n"
     ]
    }
   ],
   "source": [
    "# load imdb_reviews data with tfds\n",
    "train_data, test_data = tfds.load(name=\"imdb_reviews\",\n",
    "                        split=[\"train\",\"test\"], batch_size=-1,\n",
    "                        as_supervised=True,\n",
    "                        data_dir=\"./data/imdb_reviews\",download=True);"
   ]
  },
  {
   "cell_type": "code",
   "execution_count": 3,
   "metadata": {},
   "outputs": [
    {
     "name": "stdout",
     "output_type": "stream",
     "text": [
      "15000 15000 25000 25000 10000 10000\n",
      "b'There are many illnesses born ' 1\n",
      "b'(originally a response to a mo' 1\n",
      "b'A short review but...<br /><br' 0\n",
      "b'Illudere (to delude) comes fro' 1\n"
     ]
    }
   ],
   "source": [
    "# split dataset as train, test, val\n",
    "train_x, train_y = tfds.as_numpy(train_data)\n",
    "test_x, test_y = tfds.as_numpy(test_data)\n",
    "\n",
    "val_x, val_y = train_x[:10000], train_y[:10000]\n",
    "train_x, train_y = train_x[10000:], train_y[10000:]\n",
    "\n",
    "print(len(train_x), len(train_y),\n",
    "    len(test_x), len(test_y),\n",
    "    len(val_x), len(val_y))\n",
    "\n",
    "# sample\n",
    "for i in [1,2,100,200]:\n",
    "    print(train_x[i][:30], train_y[i]) # label == 0 neg, 1 pos"
   ]
  },
  {
   "cell_type": "code",
   "execution_count": 4,
   "metadata": {},
   "outputs": [],
   "source": [
    "# create keras model with ...\n",
    "model = \"https://tfhub.dev/google/nnlm-en-dim50/2\"\n",
    "hub_layer = hub.KerasLayer(model, input_shape=[], \n",
    "    dtype=tf.string, trainable=True)\n",
    "# hub_layer(train_x[:1])"
   ]
  },
  {
   "cell_type": "code",
   "execution_count": 5,
   "metadata": {},
   "outputs": [
    {
     "name": "stdout",
     "output_type": "stream",
     "text": [
      "Model: \"sequential\"\n",
      "_________________________________________________________________\n",
      " Layer (type)                Output Shape              Param #   \n",
      "=================================================================\n",
      " keras_layer (KerasLayer)    (None, 50)                48190600  \n",
      "                                                                 \n",
      " dense (Dense)               (None, 16)                816       \n",
      "                                                                 \n",
      " dense_1 (Dense)             (None, 1)                 17        \n",
      "                                                                 \n",
      "=================================================================\n",
      "Total params: 48,191,433\n",
      "Trainable params: 48,191,433\n",
      "Non-trainable params: 0\n",
      "_________________________________________________________________\n"
     ]
    }
   ],
   "source": [
    "# full model\n",
    "model = tf.keras.Sequential()\n",
    "model.add(hub_layer)\n",
    "model.add(tf.keras.layers.Dense(16, activation=\"relu\"))\n",
    "model.add(tf.keras.layers.Dense(1))\n",
    "model.summary()"
   ]
  },
  {
   "cell_type": "code",
   "execution_count": 6,
   "metadata": {},
   "outputs": [],
   "source": [
    "model.compile(optimizer=\"adam\",\n",
    "    # used for binary classification model\n",
    "    loss=tf.losses.BinaryCrossentropy(from_logits=True),\n",
    "    metrics=[tf.metrics.BinaryAccuracy(threshold=0.0, name=\"accuracy\")])"
   ]
  },
  {
   "cell_type": "code",
   "execution_count": 7,
   "metadata": {},
   "outputs": [
    {
     "name": "stdout",
     "output_type": "stream",
     "text": [
      "Epoch 1/10\n",
      "30/30 [==============================] - 25s 821ms/step - loss: 0.6710 - accuracy: 0.5961 - val_loss: 0.6106 - val_accuracy: 0.7106\n",
      "Epoch 2/10\n",
      "30/30 [==============================] - 27s 910ms/step - loss: 0.5383 - accuracy: 0.7727 - val_loss: 0.4927 - val_accuracy: 0.7960\n",
      "Epoch 3/10\n",
      "30/30 [==============================] - 20s 691ms/step - loss: 0.3999 - accuracy: 0.8560 - val_loss: 0.3983 - val_accuracy: 0.8362\n",
      "Epoch 4/10\n",
      "30/30 [==============================] - 18s 594ms/step - loss: 0.2896 - accuracy: 0.9027 - val_loss: 0.3427 - val_accuracy: 0.8564\n",
      "Epoch 5/10\n",
      "30/30 [==============================] - 18s 616ms/step - loss: 0.2141 - accuracy: 0.9318 - val_loss: 0.3157 - val_accuracy: 0.8668\n",
      "Epoch 6/10\n",
      "30/30 [==============================] - 17s 564ms/step - loss: 0.1591 - accuracy: 0.9537 - val_loss: 0.3053 - val_accuracy: 0.8723\n",
      "Epoch 7/10\n",
      "30/30 [==============================] - 17s 565ms/step - loss: 0.1167 - accuracy: 0.9714 - val_loss: 0.3019 - val_accuracy: 0.8721\n",
      "Epoch 8/10\n",
      "30/30 [==============================] - 17s 574ms/step - loss: 0.0853 - accuracy: 0.9831 - val_loss: 0.3056 - val_accuracy: 0.8733\n",
      "Epoch 9/10\n",
      "30/30 [==============================] - 19s 626ms/step - loss: 0.0621 - accuracy: 0.9912 - val_loss: 0.3148 - val_accuracy: 0.8750\n",
      "Epoch 10/10\n",
      "30/30 [==============================] - 18s 613ms/step - loss: 0.0456 - accuracy: 0.9949 - val_loss: 0.3245 - val_accuracy: 0.8740\n",
      "782/782 [==============================] - 57s 73ms/step - loss: 0.3580 - accuracy: 0.8558\n",
      "[0.3579890727996826, 0.8557999730110168]\n"
     ]
    }
   ],
   "source": [
    "history = model.fit(\n",
    "    train_x, train_y, epochs=10, batch_size=512,\n",
    "    validation_data = (val_x, val_y), verbose=1\n",
    ")\n",
    "results = model.evaluate(test_x, test_y) \n",
    "print(results) # loss, accuracy"
   ]
  },
  {
   "cell_type": "code",
   "execution_count": 8,
   "metadata": {},
   "outputs": [],
   "source": [
    "hist_dict = history.history\n",
    "# training acc, loss\n",
    "acc = hist_dict[\"accuracy\"]\n",
    "loss = hist_dict[\"loss\"]\n",
    "# validation acc, loss\n",
    "val_acc = hist_dict[\"val_loss\"]\n",
    "val_loss = hist_dict[\"val_accuracy\"]"
   ]
  },
  {
   "cell_type": "code",
   "execution_count": 9,
   "metadata": {},
   "outputs": [
    {
     "data": {
      "image/png": "[encoded data removed]",
      "text/plain": [
       "<Figure size 432x288 with 1 Axes>"
      ]
     },
     "metadata": {
      "needs_background": "light"
     },
     "output_type": "display_data"
    }
   ],
   "source": [
    "# plot loss graph\n",
    "epochs = range(1,len(acc)+1)\n",
    "plt.title(\"plot train_loss and val_loss\")\n",
    "plt.plot(epochs, loss, label=\"train_loss\")\n",
    "plt.plot(epochs, val_loss, label=\"val_loss\")\n",
    "plt.xlabel(\"epochs\")\n",
    "plt.ylabel(\"loss\")\n",
    "plt.legend()\n",
    "plt.show()\n",
    "# loss decreases with each epoch, acc increases\n",
    "# val loss, acc shows overfitting after ~20 epochs"
   ]
  },
  {
   "cell_type": "code",
   "execution_count": 10,
   "metadata": {},
   "outputs": [
    {
     "data": {
      "image/png": "[encoded data removed]",
      "text/plain": [
       "<Figure size 432x288 with 1 Axes>"
      ]
     },
     "metadata": {
      "needs_background": "light"
     },
     "output_type": "display_data"
    }
   ],
   "source": [
    "# plot accuracy graph\n",
    "epochs = range(1,len(acc)+1)\n",
    "plt.title(\"plot train_acc and val_acc\")\n",
    "plt.plot(epochs, acc, label=\"train_acc\")\n",
    "plt.plot(epochs, val_acc, label=\"val_acc\")\n",
    "plt.xlabel(\"epochs\")\n",
    "plt.ylabel(\"accuracy\")\n",
    "plt.legend()\n",
    "plt.show()"
   ]
  },
  {
   "cell_type": "code",
   "execution_count": 20,
   "metadata": {},
   "outputs": [
    {
     "name": "stdout",
     "output_type": "stream",
     "text": [
      "1/1 [==============================] - 0s 143ms/step\n",
      "[[ 2.0474932]\n",
      " [ 3.1993828]\n",
      " [ 2.365034 ]\n",
      " [-1.1740134]\n",
      " [ 2.5816417]\n",
      " [-3.0705776]\n",
      " [-3.211593 ]]\n"
     ]
    }
   ],
   "source": [
    "x = [\n",
    "    # good?\n",
    "    b\"good movie\",\n",
    "    b\"best movie i've watched in my life\",\n",
    "    b\"i will recommend this to my failiy\",\n",
    "    # bad?\n",
    "    b\"my mom hates this\",\n",
    "    b\"will never watch this again\",#??????\n",
    "    b\"disgusting\",\n",
    "    b\"horrible movie\",\n",
    "]\n",
    "y = model.predict(x)\n",
    "print(y)"
   ]
  }
 ],
 "metadata": {
  "kernelspec": {
   "display_name": "Python 3.8.10 64-bit",
   "language": "python",
   "name": "python3"
  },
  "language_info": {
   "codemirror_mode": {
    "name": "ipython",
    "version": 3
   },
   "file_extension": ".py",
   "mimetype": "text/x-python",
   "name": "python",
   "nbconvert_exporter": "python",
   "pygments_lexer": "ipython3",
   "version": "3.8.10"
  },
  "orig_nbformat": 4,
  "vscode": {
   "interpreter": {
    "hash": "916dbcbb3f70747c44a77c7bcd40155683ae19c65e1c03b4aa3499c5328201f1"
   }
  }
 },
 "nbformat": 4,
 "nbformat_minor": 2
}
