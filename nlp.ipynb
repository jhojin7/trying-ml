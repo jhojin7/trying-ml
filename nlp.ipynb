{
 "cells": [
  {
   "cell_type": "code",
   "execution_count": null,
   "metadata": {},
   "outputs": [],
   "source": [
    "%%capture\n",
    "# movie review text classification\n",
    "import numpy as np\n",
    "import tensorflow as tf\n",
    "import tensorflow_hub as hub\n",
    "import tensorflow_datasets as tfds\n",
    "import matplotlib.pyplot as plt\n",
    "\n",
    "# !pip3 install tensorflow_hub tensorflow_datasets matplotlib\n",
    "# ! clear\n",
    "print(\"Version: \", tf.__version__)\n",
    "print(\"Eager mode: \", tf.executing_eagerly())\n",
    "print(\"Hub version: \", hub.__version__)\n",
    "print(\"GPU is\", \"available\" if tf.config.list_physical_devices('GPU') else \"NOT AVAILABLE\")"
   ]
  },
  {
   "cell_type": "code",
   "execution_count": 2,
   "metadata": {},
   "outputs": [
    {
     "name": "stderr",
     "output_type": "stream",
     "text": [
      "2022-06-15 02:30:34.710899: I tensorflow/core/platform/cpu_feature_guard.cc:193] This TensorFlow binary is optimized with oneAPI Deep Neural Network Library (oneDNN) to use the following CPU instructions in performance-critical operations:  AVX2 FMA\n",
      "To enable them in other operations, rebuild TensorFlow with the appropriate compiler flags.\n"
     ]
    }
   ],
   "source": [
    "%%capture\n",
    "# load imdb_reviews data with tfds\n",
    "train_data, test_data = tfds.load(name=\"imdb_reviews\",\n",
    "                        split=[\"train\",\"test\"], batch_size=-1,\n",
    "                        as_supervised=True,\n",
    "                        data_dir=\"./data/imdb_reviews\",download=True);"
   ]
  },
  {
   "cell_type": "code",
   "execution_count": 3,
   "metadata": {},
   "outputs": [
    {
     "name": "stdout",
     "output_type": "stream",
     "text": [
      "15000 15000 25000 25000 10000 10000\n",
      "b'Although released among a floc' 1\n"
     ]
    }
   ],
   "source": [
    "# split dataset as train, test, val\n",
    "train_x, train_y = tfds.as_numpy(train_data)\n",
    "test_x, test_y = tfds.as_numpy(test_data)\n",
    "\n",
    "val_x, val_y = train_x[:10000], train_y[:10000]\n",
    "train_x, train_y = train_x[10000:], train_y[10000:]\n",
    "\n",
    "print(len(train_x), len(train_y),\n",
    "    len(test_x), len(test_y),\n",
    "    len(val_x), len(val_y))\n",
    "\n",
    "# sample\n",
    "print(train_x[0][:30], train_y[0]) # label == 0 neg, 1 pos"
   ]
  },
  {
   "cell_type": "code",
   "execution_count": 4,
   "metadata": {},
   "outputs": [],
   "source": [
    "# create keras model with ...\n",
    "model = \"https://tfhub.dev/google/nnlm-en-dim50/2\"\n",
    "hub_layer = hub.KerasLayer(model, input_shape=[], \n",
    "    dtype=tf.string, trainable=True)\n",
    "# hub_layer(train_x[:1])"
   ]
  },
  {
   "cell_type": "code",
   "execution_count": 5,
   "metadata": {},
   "outputs": [
    {
     "name": "stdout",
     "output_type": "stream",
     "text": [
      "Model: \"sequential\"\n",
      "_________________________________________________________________\n",
      " Layer (type)                Output Shape              Param #   \n",
      "=================================================================\n",
      " keras_layer (KerasLayer)    (None, 50)                48190600  \n",
      "                                                                 \n",
      " dense (Dense)               (None, 16)                816       \n",
      "                                                                 \n",
      " dense_1 (Dense)             (None, 1)                 17        \n",
      "                                                                 \n",
      "=================================================================\n",
      "Total params: 48,191,433\n",
      "Trainable params: 48,191,433\n",
      "Non-trainable params: 0\n",
      "_________________________________________________________________\n"
     ]
    }
   ],
   "source": [
    "# full model\n",
    "model = tf.keras.Sequential()\n",
    "model.add(hub_layer)\n",
    "model.add(tf.keras.layers.Dense(16, activation=\"relu\"))\n",
    "model.add(tf.keras.layers.Dense(1))\n",
    "model.summary()"
   ]
  },
  {
   "cell_type": "code",
   "execution_count": 6,
   "metadata": {},
   "outputs": [],
   "source": [
    "model.compile(optimizer=\"adam\",\n",
    "    # used for binary classification model\n",
    "    loss=tf.losses.BinaryCrossentropy(from_logits=True),\n",
    "    metrics=[tf.metrics.BinaryAccuracy(threshold=0.0, name=\"accuracy\")])"
   ]
  },
  {
   "cell_type": "code",
   "execution_count": 7,
   "metadata": {},
   "outputs": [
    {
     "name": "stdout",
     "output_type": "stream",
     "text": [
      "Epoch 1/40\n",
      "30/30 [==============================] - 15s 485ms/step - loss: 0.6671 - accuracy: 0.5955 - val_loss: 0.6083 - val_accuracy: 0.7186\n",
      "Epoch 2/40\n",
      "30/30 [==============================] - 13s 439ms/step - loss: 0.5470 - accuracy: 0.7739 - val_loss: 0.5049 - val_accuracy: 0.7862\n",
      "Epoch 3/40\n",
      "30/30 [==============================] - 13s 446ms/step - loss: 0.4130 - accuracy: 0.8512 - val_loss: 0.4018 - val_accuracy: 0.8387\n",
      "Epoch 4/40\n",
      "30/30 [==============================] - 13s 433ms/step - loss: 0.2937 - accuracy: 0.9045 - val_loss: 0.3399 - val_accuracy: 0.8602\n",
      "Epoch 5/40\n",
      "30/30 [==============================] - 13s 451ms/step - loss: 0.2127 - accuracy: 0.9331 - val_loss: 0.3131 - val_accuracy: 0.8701\n",
      "Epoch 6/40\n",
      "30/30 [==============================] - 15s 491ms/step - loss: 0.1551 - accuracy: 0.9563 - val_loss: 0.3039 - val_accuracy: 0.8727\n",
      "Epoch 7/40\n",
      "30/30 [==============================] - 13s 444ms/step - loss: 0.1131 - accuracy: 0.9723 - val_loss: 0.3004 - val_accuracy: 0.8748\n",
      "Epoch 8/40\n",
      "30/30 [==============================] - 13s 436ms/step - loss: 0.0815 - accuracy: 0.9829 - val_loss: 0.3046 - val_accuracy: 0.8747\n",
      "Epoch 9/40\n",
      "30/30 [==============================] - 13s 450ms/step - loss: 0.0584 - accuracy: 0.9908 - val_loss: 0.3135 - val_accuracy: 0.8748\n",
      "Epoch 10/40\n",
      "30/30 [==============================] - 14s 462ms/step - loss: 0.0422 - accuracy: 0.9951 - val_loss: 0.3243 - val_accuracy: 0.8737\n",
      "Epoch 11/40\n",
      "30/30 [==============================] - 14s 476ms/step - loss: 0.0307 - accuracy: 0.9978 - val_loss: 0.3367 - val_accuracy: 0.8729\n",
      "Epoch 12/40\n",
      "30/30 [==============================] - 14s 460ms/step - loss: 0.0226 - accuracy: 0.9989 - val_loss: 0.3491 - val_accuracy: 0.8720\n",
      "Epoch 13/40\n",
      "30/30 [==============================] - 14s 451ms/step - loss: 0.0171 - accuracy: 0.9993 - val_loss: 0.3611 - val_accuracy: 0.8718\n",
      "Epoch 14/40\n",
      "30/30 [==============================] - 15s 489ms/step - loss: 0.0132 - accuracy: 0.9997 - val_loss: 0.3726 - val_accuracy: 0.8715\n",
      "Epoch 15/40\n",
      "30/30 [==============================] - 16s 543ms/step - loss: 0.0105 - accuracy: 0.9997 - val_loss: 0.3836 - val_accuracy: 0.8699\n",
      "Epoch 16/40\n",
      "30/30 [==============================] - 16s 539ms/step - loss: 0.0085 - accuracy: 0.9999 - val_loss: 0.3937 - val_accuracy: 0.8692\n",
      "Epoch 17/40\n",
      "30/30 [==============================] - 16s 521ms/step - loss: 0.0069 - accuracy: 0.9999 - val_loss: 0.4034 - val_accuracy: 0.8690\n",
      "Epoch 18/40\n",
      "30/30 [==============================] - 17s 581ms/step - loss: 0.0058 - accuracy: 0.9999 - val_loss: 0.4124 - val_accuracy: 0.8680\n",
      "Epoch 19/40\n",
      "30/30 [==============================] - 17s 560ms/step - loss: 0.0048 - accuracy: 1.0000 - val_loss: 0.4211 - val_accuracy: 0.8675\n",
      "Epoch 20/40\n",
      "30/30 [==============================] - 16s 546ms/step - loss: 0.0041 - accuracy: 1.0000 - val_loss: 0.4292 - val_accuracy: 0.8671\n",
      "Epoch 21/40\n",
      "30/30 [==============================] - 16s 530ms/step - loss: 0.0035 - accuracy: 1.0000 - val_loss: 0.4368 - val_accuracy: 0.8665\n",
      "Epoch 22/40\n",
      "30/30 [==============================] - 16s 549ms/step - loss: 0.0031 - accuracy: 1.0000 - val_loss: 0.4441 - val_accuracy: 0.8661\n",
      "Epoch 23/40\n",
      "30/30 [==============================] - 17s 560ms/step - loss: 0.0027 - accuracy: 1.0000 - val_loss: 0.4506 - val_accuracy: 0.8671\n",
      "Epoch 24/40\n",
      "30/30 [==============================] - 16s 534ms/step - loss: 0.0024 - accuracy: 1.0000 - val_loss: 0.4570 - val_accuracy: 0.8671\n",
      "Epoch 25/40\n",
      "30/30 [==============================] - 16s 531ms/step - loss: 0.0022 - accuracy: 1.0000 - val_loss: 0.4633 - val_accuracy: 0.8661\n",
      "Epoch 26/40\n",
      "30/30 [==============================] - 16s 533ms/step - loss: 0.0019 - accuracy: 1.0000 - val_loss: 0.4694 - val_accuracy: 0.8662\n",
      "Epoch 27/40\n",
      "30/30 [==============================] - 18s 590ms/step - loss: 0.0018 - accuracy: 1.0000 - val_loss: 0.4747 - val_accuracy: 0.8666\n",
      "Epoch 28/40\n",
      "30/30 [==============================] - 17s 551ms/step - loss: 0.0016 - accuracy: 1.0000 - val_loss: 0.4802 - val_accuracy: 0.8664\n",
      "Epoch 29/40\n",
      "30/30 [==============================] - 16s 537ms/step - loss: 0.0015 - accuracy: 1.0000 - val_loss: 0.4854 - val_accuracy: 0.8663\n",
      "Epoch 30/40\n",
      "30/30 [==============================] - 16s 538ms/step - loss: 0.0013 - accuracy: 1.0000 - val_loss: 0.4905 - val_accuracy: 0.8665\n",
      "Epoch 31/40\n",
      "30/30 [==============================] - 18s 595ms/step - loss: 0.0012 - accuracy: 1.0000 - val_loss: 0.4953 - val_accuracy: 0.8658\n",
      "Epoch 32/40\n",
      "30/30 [==============================] - 16s 547ms/step - loss: 0.0011 - accuracy: 1.0000 - val_loss: 0.5000 - val_accuracy: 0.8658\n",
      "Epoch 33/40\n",
      "30/30 [==============================] - 17s 557ms/step - loss: 0.0010 - accuracy: 1.0000 - val_loss: 0.5051 - val_accuracy: 0.8653\n",
      "Epoch 34/40\n",
      "30/30 [==============================] - 16s 544ms/step - loss: 9.7139e-04 - accuracy: 1.0000 - val_loss: 0.5091 - val_accuracy: 0.8656\n",
      "Epoch 35/40\n",
      "30/30 [==============================] - 18s 585ms/step - loss: 9.0381e-04 - accuracy: 1.0000 - val_loss: 0.5136 - val_accuracy: 0.8652\n",
      "Epoch 36/40\n",
      "30/30 [==============================] - 17s 560ms/step - loss: 8.4255e-04 - accuracy: 1.0000 - val_loss: 0.5176 - val_accuracy: 0.8657\n",
      "Epoch 37/40\n",
      "30/30 [==============================] - 17s 550ms/step - loss: 7.8655e-04 - accuracy: 1.0000 - val_loss: 0.5218 - val_accuracy: 0.8650\n",
      "Epoch 38/40\n",
      "30/30 [==============================] - 16s 543ms/step - loss: 7.3593e-04 - accuracy: 1.0000 - val_loss: 0.5257 - val_accuracy: 0.8655\n",
      "Epoch 39/40\n",
      "30/30 [==============================] - 17s 580ms/step - loss: 6.8994e-04 - accuracy: 1.0000 - val_loss: 0.5296 - val_accuracy: 0.8657\n",
      "Epoch 40/40\n",
      "30/30 [==============================] - 17s 557ms/step - loss: 6.4849e-04 - accuracy: 1.0000 - val_loss: 0.5332 - val_accuracy: 0.8653\n",
      "782/782 [==============================] - 32s 41ms/step - loss: 0.5948 - accuracy: 0.8485\n",
      "[0.5948101282119751, 0.8485199809074402]\n"
     ]
    }
   ],
   "source": [
    "history = model.fit(\n",
    "    train_x, train_y, epochs=40, batch_size=512,\n",
    "    validation_data = (val_x, val_y), verbose=1\n",
    ")\n",
    "results = model.evaluate(test_x, test_y) \n",
    "print(results) # loss, accuracy"
   ]
  },
  {
   "cell_type": "code",
   "execution_count": 8,
   "metadata": {},
   "outputs": [],
   "source": [
    "hist_dict = history.history\n",
    "# training acc, loss\n",
    "acc = hist_dict[\"accuracy\"]\n",
    "loss = hist_dict[\"loss\"]\n",
    "# validation acc, loss\n",
    "val_acc = hist_dict[\"val_loss\"]\n",
    "val_loss = hist_dict[\"val_accuracy\"]"
   ]
  },
  {
   "cell_type": "code",
   "execution_count": 9,
   "metadata": {},
   "outputs": [
    {
     "data": {
      "image/png": "[encoded data removed]",
      "text/plain": [
       "<Figure size 432x288 with 1 Axes>"
      ]
     },
     "metadata": {
      "needs_background": "light"
     },
     "output_type": "display_data"
    }
   ],
   "source": [
    "# plot loss graph\n",
    "epochs = range(1,len(acc)+1)\n",
    "plt.title(\"plot train_loss and val_loss\")\n",
    "plt.plot(epochs, loss, label=\"train_loss\")\n",
    "plt.plot(epochs, val_loss, label=\"val_loss\")\n",
    "plt.xlabel(\"epochs\")\n",
    "plt.ylabel(\"loss\")\n",
    "plt.legend()\n",
    "plt.show()\n",
    "# loss decreases with each epoch, acc increases\n",
    "# val loss, acc shows overfitting after ~20 epochs"
   ]
  },
  {
   "cell_type": "code",
   "execution_count": 10,
   "metadata": {},
   "outputs": [
    {
     "data": {
      "image/png": "[encoded data removed]",
      "text/plain": [
       "<Figure size 432x288 with 1 Axes>"
      ]
     },
     "metadata": {
      "needs_background": "light"
     },
     "output_type": "display_data"
    }
   ],
   "source": [
    "# plot accuracy graph\n",
    "epochs = range(1,len(acc)+1)\n",
    "plt.title(\"plot train_acc and val_acc\")\n",
    "plt.plot(epochs, acc, label=\"train_acc\")\n",
    "plt.plot(epochs, val_acc, label=\"val_acc\")\n",
    "plt.xlabel(\"epochs\")\n",
    "plt.ylabel(\"accuracy\")\n",
    "plt.legend()\n",
    "plt.show()"
   ]
  }
 ],
 "metadata": {
  "kernelspec": {
   "display_name": "Python 3.8.10 64-bit",
   "language": "python",
   "name": "python3"
  },
  "language_info": {
   "codemirror_mode": {
    "name": "ipython",
    "version": 3
   },
   "file_extension": ".py",
   "mimetype": "text/x-python",
   "name": "python",
   "nbconvert_exporter": "python",
   "pygments_lexer": "ipython3",
   "version": "3.8.10"
  },
  "orig_nbformat": 4,
  "vscode": {
   "interpreter": {
    "hash": "916dbcbb3f70747c44a77c7bcd40155683ae19c65e1c03b4aa3499c5328201f1"
   }
  }
 },
 "nbformat": 4,
 "nbformat_minor": 2
}
