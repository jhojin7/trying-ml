{
 "cells": [
  {
   "cell_type": "code",
   "execution_count": 1,
   "metadata": {},
   "outputs": [],
   "source": [
    "# source: https://www.kaggle.com/datasets/immortal3/codeforces-dataset\n",
    "import numpy as np\n",
    "import pandas as pd\n",
    "df = pd.read_csv(\"./data/codeforces-dataset.csv\")"
   ]
  },
  {
   "cell_type": "code",
   "execution_count": 2,
   "metadata": {},
   "outputs": [],
   "source": [
    "# problem_id = contest+problem_name\n",
    "# and set problem_id as dataframe index\n",
    "df[\"problem_id\"]=df[\"contest\"].astype(str) + df[\"problem_name\"]\n",
    "df.drop([\"contest\",\"problem_name\"], axis=1, inplace=True)\n",
    "df.head(1)\n",
    "# change column names and positions\n",
    "df.rename(columns={\n",
    "    \"problem_id\":\"id\",\n",
    "    \"problem_statement\":\"statement\",\n",
    "    \"problem_tags\":\"tags\"}, inplace=True)\n",
    "df = df[[\"id\",\"statement\",\"tags\"]]\n",
    "# sort values by id\n",
    "df.sort_values(by=[\"id\"],inplace=True)"
   ]
  },
  {
   "cell_type": "code",
   "execution_count": 3,
   "metadata": {},
   "outputs": [
    {
     "name": "stdout",
     "output_type": "stream",
     "text": [
      "object\n"
     ]
    },
    {
     "data": {
      "text/plain": [
       "['binarysearch', 'math', '*1800']"
      ]
     },
     "execution_count": 3,
     "metadata": {},
     "output_type": "execute_result"
    }
   ],
   "source": [
    "# process tags into list \n",
    "df[\"tags\"] = list(df[\"tags\"].str.split(','))\n",
    "print(df[\"tags\"].dtype)\n",
    "df.head()\n",
    "df.loc[1,\"tags\"]"
   ]
  },
  {
   "cell_type": "code",
   "execution_count": 4,
   "metadata": {},
   "outputs": [
    {
     "name": "stdout",
     "output_type": "stream",
     "text": [
      "{'sortings', 'bitmasks', 'strings', 'flows', 'graphmatchings', 'numbertheory', 'meet-in-the-middle', 'dfsandsimilar', 'graphs', 'stringsuffixstructures', 'combinatorics', 'datastructures', 'twopointers', '2-sat', 'geometry', 'games', 'chineseremaindertheorem', 'hashing', 'matrices', 'constructivealgorithms', 'implementation', 'math', 'greedy', 'trees', 'interactive', 'fft', 'probabilities', 'shortestpaths', 'schedules', 'binarysearch', 'divideandconquer', 'expressionparsing', 'bruteforce', 'ternarysearch', 'dp', 'dsu'}\n"
     ]
    }
   ],
   "source": [
    "tag_types = set()\n",
    "\n",
    "for i,tags in df[\"tags\"].iteritems():\n",
    "    try:\n",
    "        # remove rating tag  \n",
    "        for tag in tags:\n",
    "            if '*' in tag:\n",
    "                tags.remove(tag)\n",
    "            else: \n",
    "                tag_types.add(tag)\n",
    "        # if no tag, fill with nan\n",
    "        if tags==[]:\n",
    "            df[\"tags\"].loc[i] = np.nan\n",
    "        else:\n",
    "            df[\"tags\"].loc[i] = tags\n",
    "    # if not list/iterable continue\n",
    "    except TypeError: \n",
    "        continue\n",
    "\n",
    "# view all tag types\n",
    "print(tag_types)"
   ]
  },
  {
   "cell_type": "code",
   "execution_count": 5,
   "metadata": {},
   "outputs": [
    {
     "name": "stdout",
     "output_type": "stream",
     "text": [
      "<class 'pandas.core.frame.DataFrame'>\n",
      "Int64Index: 7894 entries, 23 to 1571\n",
      "Data columns (total 3 columns):\n",
      " #   Column     Non-Null Count  Dtype \n",
      "---  ------     --------------  ----- \n",
      " 0   id         7894 non-null   object\n",
      " 1   statement  7894 non-null   object\n",
      " 2   tags       7894 non-null   object\n",
      "dtypes: object(3)\n",
      "memory usage: 246.7+ KB\n"
     ]
    }
   ],
   "source": [
    "df.dropna(inplace=True)\n",
    "df.info() # 7894"
   ]
  },
  {
   "cell_type": "code",
   "execution_count": 6,
   "metadata": {},
   "outputs": [
    {
     "data": {
      "text/plain": [
       "count      7894\n",
       "unique     7894\n",
       "top       1000A\n",
       "freq          1\n",
       "Name: id, dtype: object"
      ]
     },
     "execution_count": 6,
     "metadata": {},
     "output_type": "execute_result"
    }
   ],
   "source": [
    "df[\"id\"].describe()"
   ]
  },
  {
   "cell_type": "code",
   "execution_count": 7,
   "metadata": {},
   "outputs": [
    {
     "data": {
      "text/html": [
       "<div>\n",
       "<style scoped>\n",
       "    .dataframe tbody tr th:only-of-type {\n",
       "        vertical-align: middle;\n",
       "    }\n",
       "\n",
       "    .dataframe tbody tr th {\n",
       "        vertical-align: top;\n",
       "    }\n",
       "\n",
       "    .dataframe thead th {\n",
       "        text-align: right;\n",
       "    }\n",
       "</style>\n",
       "<table border=\"1\" class=\"dataframe\">\n",
       "  <thead>\n",
       "    <tr style=\"text-align: right;\">\n",
       "      <th></th>\n",
       "      <th>id</th>\n",
       "      <th>statement</th>\n",
       "      <th>tags</th>\n",
       "    </tr>\n",
       "  </thead>\n",
       "  <tbody>\n",
       "    <tr>\n",
       "      <th>23</th>\n",
       "      <td>1000A</td>\n",
       "      <td>Codehorses has just hosted the second Codehors...</td>\n",
       "      <td>[greedy, implementation]</td>\n",
       "    </tr>\n",
       "    <tr>\n",
       "      <th>24</th>\n",
       "      <td>1000B</td>\n",
       "      <td>Recently, you bought a brand new smart lamp wi...</td>\n",
       "      <td>[greedy]</td>\n",
       "    </tr>\n",
       "    <tr>\n",
       "      <th>25</th>\n",
       "      <td>1000C</td>\n",
       "      <td>You are given $$$n$$$ segments on a coordinate...</td>\n",
       "      <td>[datastructures, implementation, sortings]</td>\n",
       "    </tr>\n",
       "    <tr>\n",
       "      <th>26</th>\n",
       "      <td>1000D</td>\n",
       "      <td>The sequence of integers $$$a_1, a_2, \\dots, a...</td>\n",
       "      <td>[combinatorics, dp]</td>\n",
       "    </tr>\n",
       "    <tr>\n",
       "      <th>27</th>\n",
       "      <td>1000E</td>\n",
       "      <td>Your friend is developing a computer game. He ...</td>\n",
       "      <td>[dfsandsimilar, graphs, trees]</td>\n",
       "    </tr>\n",
       "  </tbody>\n",
       "</table>\n",
       "</div>"
      ],
      "text/plain": [
       "       id                                          statement  \\\n",
       "23  1000A  Codehorses has just hosted the second Codehors...   \n",
       "24  1000B  Recently, you bought a brand new smart lamp wi...   \n",
       "25  1000C  You are given $$$n$$$ segments on a coordinate...   \n",
       "26  1000D  The sequence of integers $$$a_1, a_2, \\dots, a...   \n",
       "27  1000E  Your friend is developing a computer game. He ...   \n",
       "\n",
       "                                          tags  \n",
       "23                    [greedy, implementation]  \n",
       "24                                    [greedy]  \n",
       "25  [datastructures, implementation, sortings]  \n",
       "26                         [combinatorics, dp]  \n",
       "27              [dfsandsimilar, graphs, trees]  "
      ]
     },
     "execution_count": 7,
     "metadata": {},
     "output_type": "execute_result"
    }
   ],
   "source": [
    "df.head()"
   ]
  },
  {
   "cell_type": "code",
   "execution_count": 8,
   "metadata": {},
   "outputs": [
    {
     "name": "stdout",
     "output_type": "stream",
     "text": [
      "===== before =====\n",
      " A permutation of length $$$n$$$ is an array $$$p=[p_1,p_2,\\dots,p_n]$$$, which contains every integer from $$$1$$$ to $$$n$$$ (inclusive) and, moreover, each number appears exactly once. For example, $$$p=[3,1,4,2,5]$$$ is a permutation of length $$$5$$$.\n",
      "\n",
      "For a given number $$$n$$$ ($$$n \\ge 2$$$), find a permutation $$$p$$$ in which absolute difference (that is, the absolute value of difference) of any two neighboring (adjacent) elements is between $$$2$$$ and $$$4$$$, inclusive. Formally, find such permutation $$$p$$$ that $$$2 \\le |p_i - p_{i+1}| \\le 4$$$ for each $$$i$$$ ($$$1 \\le i < n$$$).\n",
      "\n",
      "Print any such permutation for the given integer $$$n$$$ or determine that it does not exist.\n",
      "\n",
      "The first line contains an integer $$$t$$$ ($$$1 \\le t \\le 100$$$) — the number of test cases in the input. Then $$$t$$$ test cases follow.\n",
      "\n",
      "Each test case is described by a single line containing an integer $$$n$$$ ($$$2 \\le n \\le 1000$$$).\n",
      "\n",
      "Print $$$t$$$ lines. Print a permutation that meets the given requirements. If there are several such permutations, then print any of them. If no such permutation exists, print -1.\n",
      "22\n",
      "===== after =====\n",
      " a permutation of length $$$n$$$ is an array $$$p=[p_1,p_2,\\dots,p_n]$$$, which contains every integer from $$$1$$$ to $$$n$$$ (inclusive) and, moreover, each number appears exactly once. for example, $$$p=[3,1,4,2,5]$$$ is a permutation of length $$$5$$$.\n",
      "\n",
      "for a given number $$$n$$$ ($$$n \\ge 2$$$), find a permutation $$$p$$$ in which absolute difference (that is, the absolute value of difference) of any two neighboring (adjacent) elements is between $$$2$$$ and $$$4$$$, inclusive. formally, find such permutation $$$p$$$ that $$$2 \\le |p_i - p_{i+1}| \\le 4$$$ for each $$$i$$$ ($$$1 \\le i < n$$$).\n",
      "\n",
      "print any such permutation for the given integer $$$n$$$ or determine that it does not exist.\n",
      "\n",
      "the first line contains an integer $$$t$$$ ($$$1 \\le t \\le 100$$$) — the number of test cases in the input. then $$$t$$$ test cases follow.\n",
      "\n",
      "each test case is described by a single line containing an integer $$$n$$$ ($$$2 \\le n \\le 1000$$$).\n",
      "\n",
      "print $$$t$$$ lines. print a permutation that meets the given requirements. if there are several such permutations, then print any of them. if no such permutation exists, print -1.\n"
     ]
    }
   ],
   "source": [
    "# sample text preprocessing\n",
    "before = df[\"statement\"].loc[999]\n",
    "print(\"===== before =====\\n\",before)\n",
    "# set lowercase\n",
    "after = before.lower()\n",
    "# remove math stuff\n",
    "import re\n",
    "# https://stackoverflow.com/a/171483/3413574\n",
    "math_stuff = re.compile(\"\\$\\$\\$(.*?)\\$\\$\\$\")\n",
    "print(len(math_stuff.findall(after)))\n",
    "print(\"===== after =====\\n\",after)"
   ]
  },
  {
   "cell_type": "code",
   "execution_count": 9,
   "metadata": {},
   "outputs": [
    {
     "name": "stderr",
     "output_type": "stream",
     "text": [
      "2022-09-25 17:50:02.636952: W tensorflow/stream_executor/platform/default/dso_loader.cc:64] Could not load dynamic library 'libcudart.so.11.0'; dlerror: libcudart.so.11.0: cannot open shared object file: No such file or directory\n",
      "2022-09-25 17:50:02.637070: I tensorflow/stream_executor/cuda/cudart_stub.cc:29] Ignore above cudart dlerror if you do not have a GPU set up on your machine.\n"
     ]
    },
    {
     "name": "stdout",
     "output_type": "stream",
     "text": [
      "['requirements', 'permutations', 'permutation', 'permutation', 'permutation', 'neighboring', 'permutation', 'permutation', 'permutation', 'permutation', 'difference', 'difference', 'containing', 'inclusive', 'inclusive', 'determine', 'described', 'contains', 'moreover', 'absolute', 'absolute', 'adjacent', 'elements', 'formally', 'contains', 'integer', 'appears', 'exactly', 'example', 'between', 'integer', 'integer', 'integer', 'several', 'length', 'number', 'length', 'number', 'number', 'follow', 'single', 'exists', 'array', 'which', 'every', 'given', 'which', 'value', 'print', 'given', 'exist', 'first', 'cases', 'input', 'cases', 'print', 'lines', 'print', 'meets', 'given', 'there', 'print', 'print', 'dots', 'from', 'each', 'once', 'find', 'that', 'find', 'such', 'that', 'each', 'such', 'that', 'does', 'line', 'test', 'then', 'test', 'each', 'test', 'case', 'line', '1000', 'that', 'such', 'then', 'them', 'such', 'and', 'for', 'for', 'the', 'any', 'two', 'and', 'for', 'any', 'for']\n"
     ]
    }
   ],
   "source": [
    "from tensorflow.keras.preprocessing.text import text_to_word_sequence\n",
    "after_tokenized=text_to_word_sequence(after,\n",
    "                                        lower=True,\n",
    "                                        split=' ')\n",
    "# use only top 100 words by size\n",
    "after_tokenized=sorted(after_tokenized, key=lambda x:-len(x))[:100]\n",
    "print(after_tokenized)"
   ]
  },
  {
   "cell_type": "code",
   "execution_count": 10,
   "metadata": {},
   "outputs": [
    {
     "name": "stdout",
     "output_type": "stream",
     "text": [
      "OrderedDict([('requirements', 1), ('permutations', 1), ('permutation', 7), ('neighboring', 1), ('difference', 2), ('containing', 1), ('inclusive', 2), ('determine', 1), ('described', 1), ('contains', 2), ('moreover', 1), ('absolute', 2), ('adjacent', 1), ('elements', 1), ('formally', 1), ('integer', 4), ('appears', 1), ('exactly', 1), ('example', 1), ('between', 1), ('several', 1), ('length', 2), ('number', 3), ('follow', 1), ('single', 1), ('exists', 1), ('array', 1), ('which', 2), ('every', 1), ('given', 3), ('value', 1), ('print', 5), ('exist', 1), ('first', 1), ('cases', 2), ('input', 1), ('lines', 1), ('meets', 1), ('there', 1), ('dots', 1), ('from', 1), ('each', 3), ('once', 1), ('find', 2), ('that', 4), ('such', 4), ('does', 1), ('line', 2), ('test', 3), ('then', 2), ('case', 1), ('1000', 1), ('them', 1), ('and', 2), ('for', 4), ('the', 1), ('any', 2), ('two', 1)])\n"
     ]
    }
   ],
   "source": [
    "# https://wikidocs.net/31766\n",
    "from tensorflow.keras.preprocessing.text import Tokenizer\n",
    "tokenizer=Tokenizer()\n",
    "tokenizer.fit_on_texts(after_tokenized)\n",
    "print(tokenizer.word_counts)"
   ]
  }
 ],
 "metadata": {
  "kernelspec": {
   "display_name": "Python 3.8.10 64-bit",
   "language": "python",
   "name": "python3"
  },
  "language_info": {
   "codemirror_mode": {
    "name": "ipython",
    "version": 3
   },
   "file_extension": ".py",
   "mimetype": "text/x-python",
   "name": "python",
   "nbconvert_exporter": "python",
   "pygments_lexer": "ipython3",
   "version": "3.8.10"
  },
  "orig_nbformat": 4,
  "vscode": {
   "interpreter": {
    "hash": "916dbcbb3f70747c44a77c7bcd40155683ae19c65e1c03b4aa3499c5328201f1"
   }
  }
 },
 "nbformat": 4,
 "nbformat_minor": 2
}
